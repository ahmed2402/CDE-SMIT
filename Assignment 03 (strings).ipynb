{
 "cells": [
  {
   "cell_type": "markdown",
   "metadata": {},
   "source": [
    "### AHMED RAZA ( CDE-391804 )"
   ]
  },
  {
   "cell_type": "markdown",
   "metadata": {},
   "source": [
    "1. Write a program that accepts a string from user. Your program should count and display number of\n",
    "vowels in that string. "
   ]
  },
  {
   "cell_type": "code",
   "execution_count": 4,
   "metadata": {},
   "outputs": [
    {
     "name": "stdout",
     "output_type": "stream",
     "text": [
      "Vowels :  a\n",
      "Vowels :  e\n",
      "TOTAL NUMBER OF VOWELS :  2\n"
     ]
    }
   ],
   "source": [
    "str = input(\"Enter a string : \")\n",
    "str.lower()\n",
    "count = 0\n",
    "for i in str:\n",
    "    if i == 'a' or i == 'e' or i == 'i' or i == 'u':\n",
    "     count+=1\n",
    "     print(\"Vowels : \", i)\n",
    "print(\"TOTAL NUMBER OF VOWELS : \", count)        "
   ]
  },
  {
   "cell_type": "markdown",
   "metadata": {},
   "source": [
    "2. Write a program that reads a string from keyboard and display:\n",
    "* The number of uppercase letters in the string\n",
    "* The number of lowercase letters in the string\n",
    "* The number of digits in the string\n",
    "* The number of whitespace characters in the string"
   ]
  },
  {
   "cell_type": "code",
   "execution_count": 39,
   "metadata": {},
   "outputs": [
    {
     "name": "stdout",
     "output_type": "stream",
     "text": [
      "Uppercase Count :  2\n",
      "Lowercase Count :  7\n",
      "Digit Count :  1\n",
      "White Space Count :  2\n"
     ]
    }
   ],
   "source": [
    "text = \"Ahmed  Raza1\"\n",
    "u_count = sum(1 for char in text if char.isupper())\n",
    "print(\"Uppercase Count : \",u_count)  \n",
    "s_count = sum(1 for char in text if char.islower())\n",
    "print(\"Lowercase Count : \",s_count)  \n",
    "d_count = sum(1 for char in text if char.isdigit())\n",
    "print(\"Digit Count : \",d_count)\n",
    "w_count = sum(1 for char in text if char.isspace())\n",
    "print(\"White Space Count : \",w_count)  "
   ]
  },
  {
   "cell_type": "markdown",
   "metadata": {},
   "source": [
    "3. Write a Python program that accepts a string from user. Your program should create and display a\n",
    "new string where the first and last characters have been exchanged. "
   ]
  },
  {
   "cell_type": "code",
   "execution_count": 43,
   "metadata": {},
   "outputs": [
    {
     "name": "stdout",
     "output_type": "stream",
     "text": [
      "After Exchange :  dhmea\n"
     ]
    }
   ],
   "source": [
    "str = input('Enter a string : ')\n",
    "print(\"After Exchange : \",str[-1] + str[1:-1] + str[0])"
   ]
  },
  {
   "cell_type": "markdown",
   "metadata": {},
   "source": [
    "4. Write a Python program that accepts a string from user. Your program should create a new string in\n",
    "reverse of first string and display it"
   ]
  },
  {
   "cell_type": "code",
   "execution_count": 68,
   "metadata": {},
   "outputs": [
    {
     "name": "stdout",
     "output_type": "stream",
     "text": [
      "Reversed string :  demha\n"
     ]
    }
   ],
   "source": [
    "str = input(\"Enter a string : \")\n",
    "print(\"Reversed string : \",str[::-1])   \n"
   ]
  },
  {
   "cell_type": "markdown",
   "metadata": {},
   "source": [
    "5. Write a Python program that accepts a string from user. Your program should create a new string by\n",
    "shifting one position to left.\n",
    "For example if the user enters the string 'examination 2021' then new string would be 'xamination\n",
    "2021e'"
   ]
  },
  {
   "cell_type": "code",
   "execution_count": null,
   "metadata": {},
   "outputs": [],
   "source": []
  },
  {
   "cell_type": "code",
   "execution_count": null,
   "metadata": {},
   "outputs": [],
   "source": []
  },
  {
   "cell_type": "code",
   "execution_count": null,
   "metadata": {},
   "outputs": [],
   "source": []
  }
 ],
 "metadata": {
  "kernelspec": {
   "display_name": "Python 3",
   "language": "python",
   "name": "python3"
  },
  "language_info": {
   "codemirror_mode": {
    "name": "ipython",
    "version": 3
   },
   "file_extension": ".py",
   "mimetype": "text/x-python",
   "name": "python",
   "nbconvert_exporter": "python",
   "pygments_lexer": "ipython3",
   "version": "3.13.2"
  }
 },
 "nbformat": 4,
 "nbformat_minor": 2
}
